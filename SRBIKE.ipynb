{
 "cells": [
  {
   "cell_type": "code",
   "execution_count": 3,
   "id": "165ee12c",
   "metadata": {},
   "outputs": [],
   "source": [
    "import pandas as pd\n",
    "import numpy as np\n",
    "import matplotlib.pyplot as plt\n",
    "%matplotlib inline"
   ]
  },
  {
   "cell_type": "code",
   "execution_count": 4,
   "id": "8b96165f",
   "metadata": {},
   "outputs": [
    {
     "name": "stdout",
     "output_type": "stream",
     "text": [
      "D:\\PYTHON DATA SETS\n"
     ]
    }
   ],
   "source": [
    "import io\n",
    "%cd \"D:\\PYTHON DATA SETS\""
   ]
  },
  {
   "cell_type": "code",
   "execution_count": 5,
   "id": "941f3b70",
   "metadata": {},
   "outputs": [],
   "source": [
    "# Importing the data\n",
    "\n",
    "srbike=pd.read_excel(\"srbike.xlsx\")"
   ]
  },
  {
   "cell_type": "code",
   "execution_count": 6,
   "id": "7cf76873",
   "metadata": {},
   "outputs": [
    {
     "name": "stdout",
     "output_type": "stream",
     "text": [
      "<class 'pandas.core.frame.DataFrame'>\n",
      "RangeIndex: 8760 entries, 0 to 8759\n",
      "Data columns (total 14 columns):\n",
      " #   Column                     Non-Null Count  Dtype         \n",
      "---  ------                     --------------  -----         \n",
      " 0   Date                       8760 non-null   datetime64[ns]\n",
      " 1   Rented Bike Count          8760 non-null   int64         \n",
      " 2   Hour                       8760 non-null   int64         \n",
      " 3   Temperature(°C)            8760 non-null   float64       \n",
      " 4   Humidity(%)                8760 non-null   int64         \n",
      " 5   Wind speed (m/s)           8760 non-null   float64       \n",
      " 6   Visibility (10m)           8760 non-null   int64         \n",
      " 7   Dew point temperature(°C)  8760 non-null   float64       \n",
      " 8   Solar Radiation (MJ/m2)    8760 non-null   float64       \n",
      " 9   Rainfall(mm)               8760 non-null   float64       \n",
      " 10  Snowfall (cm)              8760 non-null   float64       \n",
      " 11  Seasons                    8760 non-null   object        \n",
      " 12  Holiday                    8760 non-null   object        \n",
      " 13  Functioning Day            8760 non-null   object        \n",
      "dtypes: datetime64[ns](1), float64(6), int64(4), object(3)\n",
      "memory usage: 958.2+ KB\n"
     ]
    }
   ],
   "source": [
    "srbike.info()"
   ]
  },
  {
   "cell_type": "code",
   "execution_count": 7,
   "id": "045db3b9",
   "metadata": {},
   "outputs": [],
   "source": [
    "numcols=srbike.select_dtypes(include=np.number)"
   ]
  },
  {
   "cell_type": "code",
   "execution_count": 8,
   "id": "61ea22e3",
   "metadata": {},
   "outputs": [
    {
     "name": "stdout",
     "output_type": "stream",
     "text": [
      "<class 'pandas.core.frame.DataFrame'>\n",
      "RangeIndex: 8760 entries, 0 to 8759\n",
      "Data columns (total 10 columns):\n",
      " #   Column                     Non-Null Count  Dtype  \n",
      "---  ------                     --------------  -----  \n",
      " 0   Rented Bike Count          8760 non-null   int64  \n",
      " 1   Hour                       8760 non-null   int64  \n",
      " 2   Temperature(°C)            8760 non-null   float64\n",
      " 3   Humidity(%)                8760 non-null   int64  \n",
      " 4   Wind speed (m/s)           8760 non-null   float64\n",
      " 5   Visibility (10m)           8760 non-null   int64  \n",
      " 6   Dew point temperature(°C)  8760 non-null   float64\n",
      " 7   Solar Radiation (MJ/m2)    8760 non-null   float64\n",
      " 8   Rainfall(mm)               8760 non-null   float64\n",
      " 9   Snowfall (cm)              8760 non-null   float64\n",
      "dtypes: float64(6), int64(4)\n",
      "memory usage: 684.5 KB\n"
     ]
    }
   ],
   "source": [
    "numcols.info()"
   ]
  },
  {
   "cell_type": "code",
   "execution_count": 9,
   "id": "cb335d70",
   "metadata": {},
   "outputs": [],
   "source": [
    "numcols=numcols.drop('Hour',axis=1)"
   ]
  },
  {
   "cell_type": "code",
   "execution_count": 10,
   "id": "9e8ee8ae",
   "metadata": {},
   "outputs": [
    {
     "data": {
      "text/html": [
       "<div>\n",
       "<style scoped>\n",
       "    .dataframe tbody tr th:only-of-type {\n",
       "        vertical-align: middle;\n",
       "    }\n",
       "\n",
       "    .dataframe tbody tr th {\n",
       "        vertical-align: top;\n",
       "    }\n",
       "\n",
       "    .dataframe thead th {\n",
       "        text-align: right;\n",
       "    }\n",
       "</style>\n",
       "<table border=\"1\" class=\"dataframe\">\n",
       "  <thead>\n",
       "    <tr style=\"text-align: right;\">\n",
       "      <th></th>\n",
       "      <th>Rented Bike Count</th>\n",
       "      <th>Temperature(°C)</th>\n",
       "      <th>Humidity(%)</th>\n",
       "      <th>Wind speed (m/s)</th>\n",
       "      <th>Visibility (10m)</th>\n",
       "      <th>Dew point temperature(°C)</th>\n",
       "      <th>Solar Radiation (MJ/m2)</th>\n",
       "      <th>Rainfall(mm)</th>\n",
       "      <th>Snowfall (cm)</th>\n",
       "    </tr>\n",
       "  </thead>\n",
       "  <tbody>\n",
       "    <tr>\n",
       "      <th>count</th>\n",
       "      <td>8760.00</td>\n",
       "      <td>8760.00</td>\n",
       "      <td>8760.00</td>\n",
       "      <td>8760.00</td>\n",
       "      <td>8760.00</td>\n",
       "      <td>8760.00</td>\n",
       "      <td>8760.00</td>\n",
       "      <td>8760.00</td>\n",
       "      <td>8760.00</td>\n",
       "    </tr>\n",
       "    <tr>\n",
       "      <th>mean</th>\n",
       "      <td>704.60</td>\n",
       "      <td>12.88</td>\n",
       "      <td>58.23</td>\n",
       "      <td>1.72</td>\n",
       "      <td>1436.83</td>\n",
       "      <td>4.07</td>\n",
       "      <td>0.57</td>\n",
       "      <td>0.15</td>\n",
       "      <td>0.08</td>\n",
       "    </tr>\n",
       "    <tr>\n",
       "      <th>std</th>\n",
       "      <td>645.00</td>\n",
       "      <td>11.94</td>\n",
       "      <td>20.36</td>\n",
       "      <td>1.04</td>\n",
       "      <td>608.30</td>\n",
       "      <td>13.06</td>\n",
       "      <td>0.87</td>\n",
       "      <td>1.13</td>\n",
       "      <td>0.44</td>\n",
       "    </tr>\n",
       "    <tr>\n",
       "      <th>min</th>\n",
       "      <td>0.00</td>\n",
       "      <td>-17.80</td>\n",
       "      <td>0.00</td>\n",
       "      <td>0.00</td>\n",
       "      <td>27.00</td>\n",
       "      <td>-30.60</td>\n",
       "      <td>0.00</td>\n",
       "      <td>0.00</td>\n",
       "      <td>0.00</td>\n",
       "    </tr>\n",
       "    <tr>\n",
       "      <th>25%</th>\n",
       "      <td>191.00</td>\n",
       "      <td>3.50</td>\n",
       "      <td>42.00</td>\n",
       "      <td>0.90</td>\n",
       "      <td>940.00</td>\n",
       "      <td>-4.70</td>\n",
       "      <td>0.00</td>\n",
       "      <td>0.00</td>\n",
       "      <td>0.00</td>\n",
       "    </tr>\n",
       "    <tr>\n",
       "      <th>50%</th>\n",
       "      <td>504.50</td>\n",
       "      <td>13.70</td>\n",
       "      <td>57.00</td>\n",
       "      <td>1.50</td>\n",
       "      <td>1698.00</td>\n",
       "      <td>5.10</td>\n",
       "      <td>0.01</td>\n",
       "      <td>0.00</td>\n",
       "      <td>0.00</td>\n",
       "    </tr>\n",
       "    <tr>\n",
       "      <th>75%</th>\n",
       "      <td>1065.25</td>\n",
       "      <td>22.50</td>\n",
       "      <td>74.00</td>\n",
       "      <td>2.30</td>\n",
       "      <td>2000.00</td>\n",
       "      <td>14.80</td>\n",
       "      <td>0.93</td>\n",
       "      <td>0.00</td>\n",
       "      <td>0.00</td>\n",
       "    </tr>\n",
       "    <tr>\n",
       "      <th>max</th>\n",
       "      <td>3556.00</td>\n",
       "      <td>39.40</td>\n",
       "      <td>98.00</td>\n",
       "      <td>7.40</td>\n",
       "      <td>2000.00</td>\n",
       "      <td>27.20</td>\n",
       "      <td>3.52</td>\n",
       "      <td>35.00</td>\n",
       "      <td>8.80</td>\n",
       "    </tr>\n",
       "  </tbody>\n",
       "</table>\n",
       "</div>"
      ],
      "text/plain": [
       "       Rented Bike Count  Temperature(°C)  Humidity(%)  Wind speed (m/s)  \\\n",
       "count            8760.00          8760.00      8760.00           8760.00   \n",
       "mean              704.60            12.88        58.23              1.72   \n",
       "std               645.00            11.94        20.36              1.04   \n",
       "min                 0.00           -17.80         0.00              0.00   \n",
       "25%               191.00             3.50        42.00              0.90   \n",
       "50%               504.50            13.70        57.00              1.50   \n",
       "75%              1065.25            22.50        74.00              2.30   \n",
       "max              3556.00            39.40        98.00              7.40   \n",
       "\n",
       "       Visibility (10m)  Dew point temperature(°C)  Solar Radiation (MJ/m2)  \\\n",
       "count           8760.00                    8760.00                  8760.00   \n",
       "mean            1436.83                       4.07                     0.57   \n",
       "std              608.30                      13.06                     0.87   \n",
       "min               27.00                     -30.60                     0.00   \n",
       "25%              940.00                      -4.70                     0.00   \n",
       "50%             1698.00                       5.10                     0.01   \n",
       "75%             2000.00                      14.80                     0.93   \n",
       "max             2000.00                      27.20                     3.52   \n",
       "\n",
       "       Rainfall(mm)  Snowfall (cm)  \n",
       "count       8760.00        8760.00  \n",
       "mean           0.15           0.08  \n",
       "std            1.13           0.44  \n",
       "min            0.00           0.00  \n",
       "25%            0.00           0.00  \n",
       "50%            0.00           0.00  \n",
       "75%            0.00           0.00  \n",
       "max           35.00           8.80  "
      ]
     },
     "execution_count": 10,
     "metadata": {},
     "output_type": "execute_result"
    }
   ],
   "source": [
    "numcols.describe()"
   ]
  },
  {
   "cell_type": "code",
   "execution_count": 11,
   "id": "d0479d9c",
   "metadata": {},
   "outputs": [],
   "source": [
    "# Extracting weekday and Month from DateTime\n",
    "\n",
    "srbike['weekday']=srbike.Date.dt.weekday"
   ]
  },
  {
   "cell_type": "code",
   "execution_count": 12,
   "id": "41431935",
   "metadata": {},
   "outputs": [],
   "source": [
    "srbike['month']=srbike.Date.dt.month"
   ]
  },
  {
   "cell_type": "code",
   "execution_count": 13,
   "id": "1d2218a1",
   "metadata": {},
   "outputs": [
    {
     "data": {
      "text/plain": [
       "<Axes: ylabel='Frequency'>"
      ]
     },
     "execution_count": 13,
     "metadata": {},
     "output_type": "execute_result"
    },
    {
     "data": {
      "image/png": "[encoded data removed]",
      "text/plain": [
       "<Figure size 640x480 with 1 Axes>"
      ]
     },
     "metadata": {},
     "output_type": "display_data"
    }
   ],
   "source": [
    "#  Histogram, Boxplot and Density Curve on Dependent variable(Rented Bike)\n",
    "\n",
    "srbike['Rented Bike Count'].plot(kind='hist')"
   ]
  },
  {
   "cell_type": "code",
   "execution_count": 14,
   "id": "1fabdec3",
   "metadata": {},
   "outputs": [
    {
     "data": {
      "text/plain": [
       "<Axes: >"
      ]
     },
     "execution_count": 14,
     "metadata": {},
     "output_type": "execute_result"
    },
    {
     "data": {
      "image/png": "[encoded data removed]",
      "text/plain": [
       "<Figure size 640x480 with 1 Axes>"
      ]
     },
     "metadata": {},
     "output_type": "display_data"
    }
   ],
   "source": [
    "srbike['Rented Bike Count'].plot(kind='box',vert=False)"
   ]
  },
  {
   "cell_type": "code",
   "execution_count": 15,
   "id": "8565e99a",
   "metadata": {},
   "outputs": [
    {
     "data": {
      "text/plain": [
       "<Axes: ylabel='Density'>"
      ]
     },
     "execution_count": 15,
     "metadata": {},
     "output_type": "execute_result"
    },
    {
     "data": {
      "image/png": "[encoded data removed]",
      "text/plain": [
       "<Figure size 640x480 with 1 Axes>"
      ]
     },
     "metadata": {},
     "output_type": "display_data"
    }
   ],
   "source": [
    "srbike['Rented Bike Count'].plot(kind='density')"
   ]
  },
  {
   "cell_type": "code",
   "execution_count": 16,
   "id": "f72b2c4f",
   "metadata": {},
   "outputs": [
    {
     "data": {
      "text/plain": [
       "<Axes: >"
      ]
     },
     "execution_count": 16,
     "metadata": {},
     "output_type": "execute_result"
    },
    {
     "data": {
      "image/png": "[encoded data removed]",
      "text/plain": [
       "<Figure size 640x480 with 1 Axes>"
      ]
     },
     "metadata": {},
     "output_type": "display_data"
    }
   ],
   "source": [
    "# Boxplot of all Numeric Variables\n",
    "\n",
    "numcols.plot(kind='box',vert=False)"
   ]
  },
  {
   "cell_type": "code",
   "execution_count": 17,
   "id": "8ded637e",
   "metadata": {},
   "outputs": [
    {
     "data": {
      "image/png": "[encoded data removed]",
      "text/plain": [
       "<Figure size 2000x1000 with 1 Axes>"
      ]
     },
     "metadata": {},
     "output_type": "display_data"
    }
   ],
   "source": [
    "# Reneted Bike Count and Hour\n",
    "\n",
    "plt.figure(figsize=(20,10))\n",
    "ax=srbike['Rented Bike Count'].groupby(\n",
    "srbike.Hour).mean().sort_values(\n",
    "ascending=False).plot(kind='bar',color='orange')\n",
    "for i in ax.containers:\n",
    "    ax.bar_label(i)"
   ]
  },
  {
   "cell_type": "code",
   "execution_count": 18,
   "id": "946ed5f8",
   "metadata": {},
   "outputs": [
    {
     "data": {
      "image/png": "[encoded data removed]",
      "text/plain": [
       "<Figure size 640x480 with 1 Axes>"
      ]
     },
     "metadata": {},
     "output_type": "display_data"
    }
   ],
   "source": [
    "#Rented Bike Count and Seasons\n",
    "\n",
    "ax=srbike['Rented Bike Count'].groupby(\n",
    "srbike.Seasons).mean().sort_values(\n",
    "ascending=False).plot(kind='bar',color='purple')\n",
    "for i in ax.containers:\n",
    "    ax.bar_label(i)"
   ]
  },
  {
   "cell_type": "code",
   "execution_count": 19,
   "id": "9dadc3a8",
   "metadata": {},
   "outputs": [
    {
     "data": {
      "image/png": "[encoded data removed]",
      "text/plain": [
       "<Figure size 640x480 with 1 Axes>"
      ]
     },
     "metadata": {},
     "output_type": "display_data"
    }
   ],
   "source": [
    "#  Rented Bike Count and Holiday\n",
    "\n",
    "ax=srbike['Rented Bike Count'].groupby(\n",
    "srbike.Holiday).mean().sort_values(\n",
    "ascending=False).plot(kind='bar',color='green')\n",
    "for i in ax.containers:\n",
    "    ax.bar_label(i)"
   ]
  },
  {
   "cell_type": "code",
   "execution_count": 20,
   "id": "66c2aa85",
   "metadata": {},
   "outputs": [
    {
     "data": {
      "image/png": "[encoded data removed]",
      "text/plain": [
       "<Figure size 640x480 with 1 Axes>"
      ]
     },
     "metadata": {},
     "output_type": "display_data"
    }
   ],
   "source": [
    "#  Rented Bike Count and Functional Day\n",
    "\n",
    "ax=srbike['Rented Bike Count'].groupby(\n",
    "srbike['Functioning Day']).mean().sort_values(\n",
    "ascending=False).plot(kind='bar',color='red')\n",
    "for i in ax.containers:\n",
    "    ax.bar_label(i)"
   ]
  },
  {
   "cell_type": "code",
   "execution_count": 21,
   "id": "3a703e75",
   "metadata": {},
   "outputs": [
    {
     "data": {
      "image/png": "[encoded data removed]",
      "text/plain": [
       "<Figure size 640x480 with 1 Axes>"
      ]
     },
     "metadata": {},
     "output_type": "display_data"
    }
   ],
   "source": [
    "ax=pd.crosstab(srbike.Seasons,srbike.Holiday).plot(kind='bar',stacked='True')\n",
    "for i in ax.containers:\n",
    "    ax.bar_label(i)"
   ]
  },
  {
   "cell_type": "code",
   "execution_count": 22,
   "id": "65bf679e",
   "metadata": {},
   "outputs": [],
   "source": [
    "import seaborn as sns"
   ]
  },
  {
   "cell_type": "code",
   "execution_count": 23,
   "id": "de92e573",
   "metadata": {},
   "outputs": [
    {
     "data": {
      "text/plain": [
       "<Axes: >"
      ]
     },
     "execution_count": 23,
     "metadata": {},
     "output_type": "execute_result"
    },
    {
     "data": {
      "image/png": "[encoded data removed]",
      "text/plain": [
       "<Figure size 1500x1000 with 2 Axes>"
      ]
     },
     "metadata": {},
     "output_type": "display_data"
    }
   ],
   "source": [
    "plt.figure(figsize=(15,10))\n",
    "sns.heatmap(numcols.corr(),annot=True,cmap='coolwarm')"
   ]
  },
  {
   "cell_type": "code",
   "execution_count": 24,
   "id": "78aa97d9",
   "metadata": {},
   "outputs": [
    {
     "data": {
      "text/plain": [
       "Holiday\n",
       "Holiday      499.76\n",
       "No Holiday   715.23\n",
       "Name: Rented Bike Count, dtype: float64"
      ]
     },
     "execution_count": 24,
     "metadata": {},
     "output_type": "execute_result"
    }
   ],
   "source": [
    "#  Test Null Average Rented Bike Count on holiday/no holiday equal\n",
    "\n",
    "srbike['Rented Bike Count'].groupby(srbike.Holiday).mean()"
   ]
  },
  {
   "cell_type": "code",
   "execution_count": 25,
   "id": "4a032960",
   "metadata": {},
   "outputs": [],
   "source": [
    "yes=srbike[srbike.Holiday=='Holiday']\n",
    "no=srbike[srbike.Holiday=='No Holiday']"
   ]
  },
  {
   "cell_type": "code",
   "execution_count": 26,
   "id": "ceb0ef50",
   "metadata": {},
   "outputs": [],
   "source": [
    "from scipy.stats import ttest_ind"
   ]
  },
  {
   "cell_type": "code",
   "execution_count": 27,
   "id": "2e11ce3e",
   "metadata": {},
   "outputs": [
    {
     "data": {
      "text/plain": [
       "Ttest_indResult(statistic=-7.5973291340447595, pvalue=1.545340334026087e-13)"
      ]
     },
     "execution_count": 27,
     "metadata": {},
     "output_type": "execute_result"
    }
   ],
   "source": [
    "ttest_ind(yes['Rented Bike Count'],no['Rented Bike Count'],equal_var=False)"
   ]
  },
  {
   "cell_type": "code",
   "execution_count": 28,
   "id": "9c8c570c",
   "metadata": {},
   "outputs": [],
   "source": [
    "# P value=1.54e^-13 , less than 0.05 so Reject Null"
   ]
  },
  {
   "cell_type": "code",
   "execution_count": 29,
   "id": "f0540d96",
   "metadata": {},
   "outputs": [
    {
     "data": {
      "text/plain": [
       "Holiday\n",
       "Holiday      1521.68\n",
       "No Holiday   1432.42\n",
       "Name: Visibility (10m), dtype: float64"
      ]
     },
     "execution_count": 29,
     "metadata": {},
     "output_type": "execute_result"
    }
   ],
   "source": [
    "# Test Null Average Visibility on holiday/no holiday equal\n",
    "\n",
    "srbike['Visibility (10m)'].groupby(srbike.Holiday).mean()"
   ]
  },
  {
   "cell_type": "code",
   "execution_count": 30,
   "id": "e3672c5f",
   "metadata": {},
   "outputs": [
    {
     "data": {
      "text/plain": [
       "Ttest_indResult(statistic=2.84700685823211, pvalue=0.004605416276474864)"
      ]
     },
     "execution_count": 30,
     "metadata": {},
     "output_type": "execute_result"
    }
   ],
   "source": [
    "ttest_ind(yes['Visibility (10m)'],no['Visibility (10m)'],equal_var=False)"
   ]
  },
  {
   "cell_type": "code",
   "execution_count": 31,
   "id": "5f992a8a",
   "metadata": {},
   "outputs": [],
   "source": [
    "# P value=0.004, less than 0.05 so Reject Null"
   ]
  },
  {
   "cell_type": "code",
   "execution_count": 32,
   "id": "75f1caa1",
   "metadata": {},
   "outputs": [
    {
     "data": {
      "text/plain": [
       "Seasons\n",
       "Autumn    819.60\n",
       "Spring    730.03\n",
       "Summer   1034.07\n",
       "Winter    225.54\n",
       "Name: Rented Bike Count, dtype: float64"
      ]
     },
     "execution_count": 32,
     "metadata": {},
     "output_type": "execute_result"
    }
   ],
   "source": [
    "#  Test Null Average Rented Bike Count of different seasons equal\n",
    "\n",
    "srbike['Rented Bike Count'].groupby(srbike.Seasons).mean()"
   ]
  },
  {
   "cell_type": "code",
   "execution_count": 33,
   "id": "54f84844",
   "metadata": {},
   "outputs": [],
   "source": [
    "s1=srbike[srbike.Seasons=='Autumn']\n",
    "s2=srbike[srbike.Seasons=='Spring']\n",
    "s3=srbike[srbike.Seasons=='Summer']\n",
    "s4=srbike[srbike.Seasons=='Winter']"
   ]
  },
  {
   "cell_type": "code",
   "execution_count": 34,
   "id": "237ce4ea",
   "metadata": {},
   "outputs": [],
   "source": [
    "from scipy.stats import f_oneway"
   ]
  },
  {
   "cell_type": "code",
   "execution_count": 35,
   "id": "33989452",
   "metadata": {},
   "outputs": [
    {
     "data": {
      "text/plain": [
       "F_onewayResult(statistic=776.4678149879506, pvalue=0.0)"
      ]
     },
     "execution_count": 35,
     "metadata": {},
     "output_type": "execute_result"
    }
   ],
   "source": [
    "f_oneway(s1['Rented Bike Count'],s2['Rented Bike Count'],s3['Rented Bike Count'],s4['Rented Bike Count'])"
   ]
  },
  {
   "cell_type": "code",
   "execution_count": 36,
   "id": "bcb66c81",
   "metadata": {},
   "outputs": [],
   "source": [
    "# P value=0, less than 0.05 so reject null"
   ]
  },
  {
   "cell_type": "code",
   "execution_count": 37,
   "id": "7bff4095",
   "metadata": {},
   "outputs": [
    {
     "data": {
      "text/plain": [
       "Seasons\n",
       "Autumn   1560.75\n",
       "Spring   1240.36\n",
       "Summer   1501.75\n",
       "Winter   1445.99\n",
       "Name: Visibility (10m), dtype: float64"
      ]
     },
     "execution_count": 37,
     "metadata": {},
     "output_type": "execute_result"
    }
   ],
   "source": [
    "#  Test Null Visibility of different seasons equal\n",
    "\n",
    "srbike['Visibility (10m)'].groupby(srbike.Seasons).mean()"
   ]
  },
  {
   "cell_type": "code",
   "execution_count": 38,
   "id": "cdae5bb0",
   "metadata": {},
   "outputs": [
    {
     "data": {
      "text/plain": [
       "F_onewayResult(statistic=776.4678149879506, pvalue=0.0)"
      ]
     },
     "execution_count": 38,
     "metadata": {},
     "output_type": "execute_result"
    }
   ],
   "source": [
    "f_oneway(s1['Rented Bike Count'],s2['Rented Bike Count'],s3['Rented Bike Count'],s4['Rented Bike Count'])"
   ]
  },
  {
   "cell_type": "code",
   "execution_count": 39,
   "id": "2a11d37e",
   "metadata": {},
   "outputs": [],
   "source": [
    "# P value=0, less tha 0.05 so reject null"
   ]
  },
  {
   "cell_type": "code",
   "execution_count": 40,
   "id": "c433219c",
   "metadata": {},
   "outputs": [],
   "source": [
    "from scipy.stats import chi2_contingency"
   ]
  },
  {
   "cell_type": "code",
   "execution_count": 41,
   "id": "a3eba8c1",
   "metadata": {},
   "outputs": [
    {
     "data": {
      "text/plain": [
       "Chi2ContingencyResult(statistic=122.58722091136573, pvalue=2.1388791104963462e-26, dof=3, expected_freq=array([[ 107.70410959, 2076.29589041],\n",
       "       [ 108.88767123, 2099.11232877],\n",
       "       [ 108.88767123, 2099.11232877],\n",
       "       [ 106.52054795, 2053.47945205]]))"
      ]
     },
     "execution_count": 41,
     "metadata": {},
     "output_type": "execute_result"
    }
   ],
   "source": [
    "#  Test Null No Association between seasons and holiday\n",
    "\n",
    "chi2_contingency(pd.crosstab(srbike.Seasons,srbike.Holiday))"
   ]
  },
  {
   "cell_type": "code",
   "execution_count": 42,
   "id": "ca87d158",
   "metadata": {},
   "outputs": [],
   "source": [
    "# P value is  less than 0.05 so reject null"
   ]
  },
  {
   "cell_type": "code",
   "execution_count": 43,
   "id": "316bd44d",
   "metadata": {},
   "outputs": [
    {
     "data": {
      "text/plain": [
       "Chi2ContingencyResult(statistic=5.996313634599221, pvalue=0.014335802213322982, dof=1, expected_freq=array([[  14.54794521,  417.45205479],\n",
       "       [ 280.45205479, 8047.54794521]]))"
      ]
     },
     "execution_count": 43,
     "metadata": {},
     "output_type": "execute_result"
    }
   ],
   "source": [
    "#  Test Null No Association between holiday and functional\n",
    "\n",
    "chi2_contingency(pd.crosstab(srbike.Holiday,srbike['Functioning Day']))"
   ]
  },
  {
   "cell_type": "code",
   "execution_count": 44,
   "id": "48f1bb83",
   "metadata": {},
   "outputs": [],
   "source": [
    "# pvalue=0.014335802213322982 less than 0.05 so reject null"
   ]
  },
  {
   "cell_type": "code",
   "execution_count": 45,
   "id": "525f070e",
   "metadata": {},
   "outputs": [],
   "source": [
    "# Separating the object variables from dataframe srbike\n",
    "\n",
    "# Adding weekday and month to objcols\n",
    "\n",
    "objcols=srbike[['weekday','month','Seasons','Holiday','Functioning Day','Hour']]"
   ]
  },
  {
   "cell_type": "code",
   "execution_count": 46,
   "id": "eb9df330",
   "metadata": {},
   "outputs": [
    {
     "name": "stdout",
     "output_type": "stream",
     "text": [
      "<class 'pandas.core.frame.DataFrame'>\n",
      "RangeIndex: 8760 entries, 0 to 8759\n",
      "Data columns (total 6 columns):\n",
      " #   Column           Non-Null Count  Dtype \n",
      "---  ------           --------------  ----- \n",
      " 0   weekday          8760 non-null   int64 \n",
      " 1   month            8760 non-null   int64 \n",
      " 2   Seasons          8760 non-null   object\n",
      " 3   Holiday          8760 non-null   object\n",
      " 4   Functioning Day  8760 non-null   object\n",
      " 5   Hour             8760 non-null   int64 \n",
      "dtypes: int64(3), object(3)\n",
      "memory usage: 410.8+ KB\n"
     ]
    }
   ],
   "source": [
    "objcols.info()"
   ]
  },
  {
   "cell_type": "code",
   "execution_count": 47,
   "id": "0aaaf2dd",
   "metadata": {},
   "outputs": [
    {
     "name": "stdout",
     "output_type": "stream",
     "text": [
      "<class 'pandas.core.frame.DataFrame'>\n",
      "RangeIndex: 8760 entries, 0 to 8759\n",
      "Data columns (total 9 columns):\n",
      " #   Column                     Non-Null Count  Dtype  \n",
      "---  ------                     --------------  -----  \n",
      " 0   Rented Bike Count          8760 non-null   int64  \n",
      " 1   Temperature(°C)            8760 non-null   float64\n",
      " 2   Humidity(%)                8760 non-null   int64  \n",
      " 3   Wind speed (m/s)           8760 non-null   float64\n",
      " 4   Visibility (10m)           8760 non-null   int64  \n",
      " 5   Dew point temperature(°C)  8760 non-null   float64\n",
      " 6   Solar Radiation (MJ/m2)    8760 non-null   float64\n",
      " 7   Rainfall(mm)               8760 non-null   float64\n",
      " 8   Snowfall (cm)              8760 non-null   float64\n",
      "dtypes: float64(6), int64(3)\n",
      "memory usage: 616.1 KB\n"
     ]
    }
   ],
   "source": [
    "numcols.info()"
   ]
  },
  {
   "cell_type": "code",
   "execution_count": 48,
   "id": "1c967228",
   "metadata": {},
   "outputs": [],
   "source": [
    "from sklearn.preprocessing import LabelEncoder\n"
   ]
  },
  {
   "cell_type": "code",
   "execution_count": 49,
   "id": "c817dbd5",
   "metadata": {},
   "outputs": [],
   "source": [
    "le=LabelEncoder()\n"
   ]
  },
  {
   "cell_type": "code",
   "execution_count": 50,
   "id": "0991d096",
   "metadata": {},
   "outputs": [],
   "source": [
    "objcols_encode=objcols.apply(le.fit_transform)"
   ]
  },
  {
   "cell_type": "code",
   "execution_count": 51,
   "id": "6c4d3315",
   "metadata": {},
   "outputs": [
    {
     "data": {
      "text/html": [
       "<div>\n",
       "<style scoped>\n",
       "    .dataframe tbody tr th:only-of-type {\n",
       "        vertical-align: middle;\n",
       "    }\n",
       "\n",
       "    .dataframe tbody tr th {\n",
       "        vertical-align: top;\n",
       "    }\n",
       "\n",
       "    .dataframe thead th {\n",
       "        text-align: right;\n",
       "    }\n",
       "</style>\n",
       "<table border=\"1\" class=\"dataframe\">\n",
       "  <thead>\n",
       "    <tr style=\"text-align: right;\">\n",
       "      <th></th>\n",
       "      <th>weekday</th>\n",
       "      <th>month</th>\n",
       "      <th>Seasons</th>\n",
       "      <th>Holiday</th>\n",
       "      <th>Functioning Day</th>\n",
       "      <th>Hour</th>\n",
       "    </tr>\n",
       "  </thead>\n",
       "  <tbody>\n",
       "    <tr>\n",
       "      <th>0</th>\n",
       "      <td>4</td>\n",
       "      <td>11</td>\n",
       "      <td>3</td>\n",
       "      <td>1</td>\n",
       "      <td>1</td>\n",
       "      <td>0</td>\n",
       "    </tr>\n",
       "    <tr>\n",
       "      <th>1</th>\n",
       "      <td>4</td>\n",
       "      <td>11</td>\n",
       "      <td>3</td>\n",
       "      <td>1</td>\n",
       "      <td>1</td>\n",
       "      <td>1</td>\n",
       "    </tr>\n",
       "    <tr>\n",
       "      <th>2</th>\n",
       "      <td>4</td>\n",
       "      <td>11</td>\n",
       "      <td>3</td>\n",
       "      <td>1</td>\n",
       "      <td>1</td>\n",
       "      <td>2</td>\n",
       "    </tr>\n",
       "    <tr>\n",
       "      <th>3</th>\n",
       "      <td>4</td>\n",
       "      <td>11</td>\n",
       "      <td>3</td>\n",
       "      <td>1</td>\n",
       "      <td>1</td>\n",
       "      <td>3</td>\n",
       "    </tr>\n",
       "    <tr>\n",
       "      <th>4</th>\n",
       "      <td>4</td>\n",
       "      <td>11</td>\n",
       "      <td>3</td>\n",
       "      <td>1</td>\n",
       "      <td>1</td>\n",
       "      <td>4</td>\n",
       "    </tr>\n",
       "    <tr>\n",
       "      <th>5</th>\n",
       "      <td>4</td>\n",
       "      <td>11</td>\n",
       "      <td>3</td>\n",
       "      <td>1</td>\n",
       "      <td>1</td>\n",
       "      <td>5</td>\n",
       "    </tr>\n",
       "    <tr>\n",
       "      <th>6</th>\n",
       "      <td>4</td>\n",
       "      <td>11</td>\n",
       "      <td>3</td>\n",
       "      <td>1</td>\n",
       "      <td>1</td>\n",
       "      <td>6</td>\n",
       "    </tr>\n",
       "    <tr>\n",
       "      <th>7</th>\n",
       "      <td>4</td>\n",
       "      <td>11</td>\n",
       "      <td>3</td>\n",
       "      <td>1</td>\n",
       "      <td>1</td>\n",
       "      <td>7</td>\n",
       "    </tr>\n",
       "    <tr>\n",
       "      <th>8</th>\n",
       "      <td>4</td>\n",
       "      <td>11</td>\n",
       "      <td>3</td>\n",
       "      <td>1</td>\n",
       "      <td>1</td>\n",
       "      <td>8</td>\n",
       "    </tr>\n",
       "    <tr>\n",
       "      <th>9</th>\n",
       "      <td>4</td>\n",
       "      <td>11</td>\n",
       "      <td>3</td>\n",
       "      <td>1</td>\n",
       "      <td>1</td>\n",
       "      <td>9</td>\n",
       "    </tr>\n",
       "    <tr>\n",
       "      <th>10</th>\n",
       "      <td>4</td>\n",
       "      <td>11</td>\n",
       "      <td>3</td>\n",
       "      <td>1</td>\n",
       "      <td>1</td>\n",
       "      <td>10</td>\n",
       "    </tr>\n",
       "    <tr>\n",
       "      <th>11</th>\n",
       "      <td>4</td>\n",
       "      <td>11</td>\n",
       "      <td>3</td>\n",
       "      <td>1</td>\n",
       "      <td>1</td>\n",
       "      <td>11</td>\n",
       "    </tr>\n",
       "    <tr>\n",
       "      <th>12</th>\n",
       "      <td>4</td>\n",
       "      <td>11</td>\n",
       "      <td>3</td>\n",
       "      <td>1</td>\n",
       "      <td>1</td>\n",
       "      <td>12</td>\n",
       "    </tr>\n",
       "    <tr>\n",
       "      <th>13</th>\n",
       "      <td>4</td>\n",
       "      <td>11</td>\n",
       "      <td>3</td>\n",
       "      <td>1</td>\n",
       "      <td>1</td>\n",
       "      <td>13</td>\n",
       "    </tr>\n",
       "    <tr>\n",
       "      <th>14</th>\n",
       "      <td>4</td>\n",
       "      <td>11</td>\n",
       "      <td>3</td>\n",
       "      <td>1</td>\n",
       "      <td>1</td>\n",
       "      <td>14</td>\n",
       "    </tr>\n",
       "    <tr>\n",
       "      <th>15</th>\n",
       "      <td>4</td>\n",
       "      <td>11</td>\n",
       "      <td>3</td>\n",
       "      <td>1</td>\n",
       "      <td>1</td>\n",
       "      <td>15</td>\n",
       "    </tr>\n",
       "    <tr>\n",
       "      <th>16</th>\n",
       "      <td>4</td>\n",
       "      <td>11</td>\n",
       "      <td>3</td>\n",
       "      <td>1</td>\n",
       "      <td>1</td>\n",
       "      <td>16</td>\n",
       "    </tr>\n",
       "    <tr>\n",
       "      <th>17</th>\n",
       "      <td>4</td>\n",
       "      <td>11</td>\n",
       "      <td>3</td>\n",
       "      <td>1</td>\n",
       "      <td>1</td>\n",
       "      <td>17</td>\n",
       "    </tr>\n",
       "    <tr>\n",
       "      <th>18</th>\n",
       "      <td>4</td>\n",
       "      <td>11</td>\n",
       "      <td>3</td>\n",
       "      <td>1</td>\n",
       "      <td>1</td>\n",
       "      <td>18</td>\n",
       "    </tr>\n",
       "    <tr>\n",
       "      <th>19</th>\n",
       "      <td>4</td>\n",
       "      <td>11</td>\n",
       "      <td>3</td>\n",
       "      <td>1</td>\n",
       "      <td>1</td>\n",
       "      <td>19</td>\n",
       "    </tr>\n",
       "  </tbody>\n",
       "</table>\n",
       "</div>"
      ],
      "text/plain": [
       "    weekday  month  Seasons  Holiday  Functioning Day  Hour\n",
       "0         4     11        3        1                1     0\n",
       "1         4     11        3        1                1     1\n",
       "2         4     11        3        1                1     2\n",
       "3         4     11        3        1                1     3\n",
       "4         4     11        3        1                1     4\n",
       "5         4     11        3        1                1     5\n",
       "6         4     11        3        1                1     6\n",
       "7         4     11        3        1                1     7\n",
       "8         4     11        3        1                1     8\n",
       "9         4     11        3        1                1     9\n",
       "10        4     11        3        1                1    10\n",
       "11        4     11        3        1                1    11\n",
       "12        4     11        3        1                1    12\n",
       "13        4     11        3        1                1    13\n",
       "14        4     11        3        1                1    14\n",
       "15        4     11        3        1                1    15\n",
       "16        4     11        3        1                1    16\n",
       "17        4     11        3        1                1    17\n",
       "18        4     11        3        1                1    18\n",
       "19        4     11        3        1                1    19"
      ]
     },
     "execution_count": 51,
     "metadata": {},
     "output_type": "execute_result"
    }
   ],
   "source": [
    "objcols_encode.head(20)"
   ]
  },
  {
   "cell_type": "code",
   "execution_count": 52,
   "id": "c7da1e2b",
   "metadata": {},
   "outputs": [],
   "source": [
    "# Get Dummies for objcols\n",
    "\n",
    "objcols_dummy=pd.get_dummies(objcols,columns=['weekday','month','Seasons','Holiday','Functioning Day'])"
   ]
  },
  {
   "cell_type": "code",
   "execution_count": 53,
   "id": "8e898afb",
   "metadata": {},
   "outputs": [],
   "source": [
    "numcols=numcols.drop('Rented Bike Count',axis=1)"
   ]
  },
  {
   "cell_type": "code",
   "execution_count": 54,
   "id": "4ac6435d",
   "metadata": {},
   "outputs": [
    {
     "data": {
      "text/plain": [
       "<Axes: >"
      ]
     },
     "execution_count": 54,
     "metadata": {},
     "output_type": "execute_result"
    },
    {
     "data": {
      "image/png": "[encoded data removed]",
      "text/plain": [
       "<Figure size 640x480 with 1 Axes>"
      ]
     },
     "metadata": {},
     "output_type": "display_data"
    }
   ],
   "source": [
    "sns.boxplot(numcols,orient='h')"
   ]
  },
  {
   "cell_type": "code",
   "execution_count": 55,
   "id": "55eff829",
   "metadata": {},
   "outputs": [],
   "source": [
    "# Scaling the numeric variables\n",
    "\n",
    "from sklearn.preprocessing import StandardScaler"
   ]
  },
  {
   "cell_type": "code",
   "execution_count": 56,
   "id": "07a5ce6f",
   "metadata": {},
   "outputs": [],
   "source": [
    "stdscaler=StandardScaler()"
   ]
  },
  {
   "cell_type": "code",
   "execution_count": 57,
   "id": "143c2527",
   "metadata": {},
   "outputs": [],
   "source": [
    "numcols_scaled=stdscaler.fit_transform(numcols)"
   ]
  },
  {
   "cell_type": "code",
   "execution_count": 58,
   "id": "4941f86e",
   "metadata": {},
   "outputs": [],
   "source": [
    "# Conversion of Arrary structure  into dataframe\n",
    "\n",
    "numcols_scaled=pd.DataFrame(numcols_scaled,columns=numcols.columns)"
   ]
  },
  {
   "cell_type": "code",
   "execution_count": 59,
   "id": "b6d84fcd",
   "metadata": {},
   "outputs": [],
   "source": [
    "# Combaining the dataframes of numcols_scaled and objcols_dummy\n",
    "\n",
    "combinedf=pd.concat([numcols_scaled,objcols_encode],axis=1)"
   ]
  },
  {
   "cell_type": "code",
   "execution_count": 60,
   "id": "dca43cfd",
   "metadata": {},
   "outputs": [],
   "source": [
    "# Splitting the data into independent variable(y) and dependent variables(x)\n",
    "\n",
    "y=srbike['Rented Bike Count']\n",
    "X=combinedf"
   ]
  },
  {
   "cell_type": "code",
   "execution_count": 61,
   "id": "213efe5c",
   "metadata": {},
   "outputs": [],
   "source": [
    "from sklearn.model_selection import train_test_split"
   ]
  },
  {
   "cell_type": "code",
   "execution_count": 62,
   "id": "ab5aff52",
   "metadata": {},
   "outputs": [],
   "source": [
    "# Split Data into Train(75%) & Test(25%)\n",
    "\n",
    "X_train,X_test,y_train,y_test=train_test_split(X,y,\n",
    "                                               test_size=0.25,\n",
    "                                               random_state=42)"
   ]
  },
  {
   "cell_type": "code",
   "execution_count": 63,
   "id": "0c9fabd7",
   "metadata": {},
   "outputs": [
    {
     "name": "stdout",
     "output_type": "stream",
     "text": [
      "<class 'pandas.core.frame.DataFrame'>\n",
      "RangeIndex: 8760 entries, 0 to 8759\n",
      "Data columns (total 14 columns):\n",
      " #   Column                     Non-Null Count  Dtype  \n",
      "---  ------                     --------------  -----  \n",
      " 0   Temperature(°C)            8760 non-null   float64\n",
      " 1   Humidity(%)                8760 non-null   float64\n",
      " 2   Wind speed (m/s)           8760 non-null   float64\n",
      " 3   Visibility (10m)           8760 non-null   float64\n",
      " 4   Dew point temperature(°C)  8760 non-null   float64\n",
      " 5   Solar Radiation (MJ/m2)    8760 non-null   float64\n",
      " 6   Rainfall(mm)               8760 non-null   float64\n",
      " 7   Snowfall (cm)              8760 non-null   float64\n",
      " 8   weekday                    8760 non-null   int64  \n",
      " 9   month                      8760 non-null   int64  \n",
      " 10  Seasons                    8760 non-null   int32  \n",
      " 11  Holiday                    8760 non-null   int32  \n",
      " 12  Functioning Day            8760 non-null   int32  \n",
      " 13  Hour                       8760 non-null   int64  \n",
      "dtypes: float64(8), int32(3), int64(3)\n",
      "memory usage: 855.6 KB\n"
     ]
    }
   ],
   "source": [
    "combinedf.info()"
   ]
  },
  {
   "cell_type": "code",
   "execution_count": 70,
   "id": "e1745195",
   "metadata": {},
   "outputs": [],
   "source": [
    "from sklearn.linear_model import LinearRegression"
   ]
  },
  {
   "cell_type": "code",
   "execution_count": 71,
   "id": "fe472526",
   "metadata": {},
   "outputs": [],
   "source": [
    "reg=LinearRegression()"
   ]
  },
  {
   "cell_type": "code",
   "execution_count": 72,
   "id": "dc2a07ea",
   "metadata": {},
   "outputs": [],
   "source": [
    "regmodel=reg.fit(X_train,y_train)"
   ]
  },
  {
   "cell_type": "code",
   "execution_count": 73,
   "id": "22a55ce2",
   "metadata": {},
   "outputs": [
    {
     "data": {
      "text/plain": [
       "0.5562239353287584"
      ]
     },
     "execution_count": 73,
     "metadata": {},
     "output_type": "execute_result"
    }
   ],
   "source": [
    "regmodel.score(X_train,y_train)"
   ]
  },
  {
   "cell_type": "code",
   "execution_count": 61,
   "id": "af7130a0",
   "metadata": {},
   "outputs": [],
   "source": [
    "reg_train_pred=regmodel.predict(X_train)"
   ]
  },
  {
   "cell_type": "code",
   "execution_count": 62,
   "id": "a2229d6e",
   "metadata": {},
   "outputs": [],
   "source": [
    "reg_train_resid=y_train-reg_train_pred"
   ]
  },
  {
   "cell_type": "code",
   "execution_count": 63,
   "id": "725aec12",
   "metadata": {},
   "outputs": [
    {
     "data": {
      "text/plain": [
       "409.5285104971131"
      ]
     },
     "execution_count": 63,
     "metadata": {},
     "output_type": "execute_result"
    }
   ],
   "source": [
    "np.sqrt(np.mean(reg_train_resid**2)) # RMSE"
   ]
  },
  {
   "cell_type": "code",
   "execution_count": 64,
   "id": "f70122db",
   "metadata": {},
   "outputs": [],
   "source": [
    "reg_test_pred=regmodel.predict(X_test)"
   ]
  },
  {
   "cell_type": "code",
   "execution_count": 65,
   "id": "ded2ec5b",
   "metadata": {},
   "outputs": [],
   "source": [
    "reg_test_resid=y_test-reg_test_pred"
   ]
  },
  {
   "cell_type": "code",
   "execution_count": 66,
   "id": "97f1cf66",
   "metadata": {},
   "outputs": [
    {
     "data": {
      "text/plain": [
       "416.6382571278897"
      ]
     },
     "execution_count": 66,
     "metadata": {},
     "output_type": "execute_result"
    }
   ],
   "source": [
    "np.sqrt(np.mean(reg_test_resid**2)) # RMSE"
   ]
  },
  {
   "cell_type": "code",
   "execution_count": 67,
   "id": "d7747776",
   "metadata": {},
   "outputs": [],
   "source": [
    "from sklearn.tree import DecisionTreeRegressor"
   ]
  },
  {
   "cell_type": "code",
   "execution_count": 68,
   "id": "6baea4bb",
   "metadata": {},
   "outputs": [],
   "source": [
    "tree=DecisionTreeRegressor(max_depth=10)"
   ]
  },
  {
   "cell_type": "code",
   "execution_count": 69,
   "id": "44a597f9",
   "metadata": {},
   "outputs": [],
   "source": [
    "treemodel=tree.fit(X_train,y_train)"
   ]
  },
  {
   "cell_type": "code",
   "execution_count": 70,
   "id": "ac2aac7c",
   "metadata": {},
   "outputs": [
    {
     "data": {
      "text/plain": [
       "0.8937972116190627"
      ]
     },
     "execution_count": 70,
     "metadata": {},
     "output_type": "execute_result"
    }
   ],
   "source": [
    "treemodel.score(X_train,y_train)"
   ]
  },
  {
   "cell_type": "code",
   "execution_count": 64,
   "id": "a0278af1",
   "metadata": {},
   "outputs": [],
   "source": [
    "from sklearn.model_selection import cross_val_score"
   ]
  },
  {
   "cell_type": "code",
   "execution_count": 72,
   "id": "6ad4cf16",
   "metadata": {},
   "outputs": [
    {
     "data": {
      "text/plain": [
       "array([0.80548242, 0.82856783, 0.83001926, 0.82892954, 0.83779484])"
      ]
     },
     "execution_count": 72,
     "metadata": {},
     "output_type": "execute_result"
    }
   ],
   "source": [
    "cross_val_score(tree,X_train,y_train)"
   ]
  },
  {
   "cell_type": "code",
   "execution_count": 73,
   "id": "3bbf4975",
   "metadata": {},
   "outputs": [
    {
     "data": {
      "text/plain": [
       "0.8207068100000001"
      ]
     },
     "execution_count": 73,
     "metadata": {},
     "output_type": "execute_result"
    }
   ],
   "source": [
    "np.mean([0.7995473 , 0.82901652, 0.81871628, 0.81998332, 0.83627063])"
   ]
  },
  {
   "cell_type": "code",
   "execution_count": 74,
   "id": "d6253988",
   "metadata": {},
   "outputs": [],
   "source": [
    "tree_train_pred=treemodel.predict(X_train)"
   ]
  },
  {
   "cell_type": "code",
   "execution_count": 75,
   "id": "18c50cf6",
   "metadata": {},
   "outputs": [],
   "source": [
    "tree_train_resid=y_train-tree_train_pred"
   ]
  },
  {
   "cell_type": "code",
   "execution_count": 76,
   "id": "b18db7b3",
   "metadata": {},
   "outputs": [
    {
     "data": {
      "text/plain": [
       "210.75293159443063"
      ]
     },
     "execution_count": 76,
     "metadata": {},
     "output_type": "execute_result"
    }
   ],
   "source": [
    "np.sqrt(np.mean(tree_train_resid**2))"
   ]
  },
  {
   "cell_type": "code",
   "execution_count": 77,
   "id": "2f7bec71",
   "metadata": {},
   "outputs": [],
   "source": [
    "tree_test_pred=treemodel.predict(X_test)"
   ]
  },
  {
   "cell_type": "code",
   "execution_count": 78,
   "id": "a769e3e2",
   "metadata": {},
   "outputs": [],
   "source": [
    "tree_test_resid=y_test-tree_test_pred"
   ]
  },
  {
   "cell_type": "code",
   "execution_count": 79,
   "id": "bbc64de3",
   "metadata": {},
   "outputs": [
    {
     "data": {
      "text/plain": [
       "267.6032252937981"
      ]
     },
     "execution_count": 79,
     "metadata": {},
     "output_type": "execute_result"
    }
   ],
   "source": [
    "np.sqrt(np.mean(tree_test_resid**2))"
   ]
  },
  {
   "cell_type": "code",
   "execution_count": 80,
   "id": "2fc6cc0f",
   "metadata": {},
   "outputs": [],
   "source": [
    "from sklearn.ensemble import RandomForestRegressor"
   ]
  },
  {
   "cell_type": "code",
   "execution_count": 81,
   "id": "85379796",
   "metadata": {},
   "outputs": [],
   "source": [
    "RF=RandomForestRegressor(n_estimators=1000)"
   ]
  },
  {
   "cell_type": "code",
   "execution_count": 82,
   "id": "ca30b65c",
   "metadata": {},
   "outputs": [],
   "source": [
    "RFmodel=RF.fit(X_train,y_train)"
   ]
  },
  {
   "cell_type": "code",
   "execution_count": 83,
   "id": "7a5a287c",
   "metadata": {},
   "outputs": [
    {
     "data": {
      "text/plain": [
       "0.9900499703777133"
      ]
     },
     "execution_count": 83,
     "metadata": {},
     "output_type": "execute_result"
    }
   ],
   "source": [
    "RFmodel.score(X_train,y_train)"
   ]
  },
  {
   "cell_type": "code",
   "execution_count": 84,
   "id": "b15dedbd",
   "metadata": {},
   "outputs": [
    {
     "data": {
      "text/plain": [
       "array([0.90785519, 0.924109  , 0.91948662, 0.91558244, 0.92153601])"
      ]
     },
     "execution_count": 84,
     "metadata": {},
     "output_type": "execute_result"
    }
   ],
   "source": [
    "cross_val_score(RF,X_train,y_train)"
   ]
  },
  {
   "cell_type": "code",
   "execution_count": 85,
   "id": "9bceb4e9",
   "metadata": {},
   "outputs": [
    {
     "data": {
      "text/plain": [
       "0.917843472"
      ]
     },
     "execution_count": 85,
     "metadata": {},
     "output_type": "execute_result"
    }
   ],
   "source": [
    "np.mean([0.90861637, 0.92424458, 0.91949631, 0.91502406, 0.92183604])"
   ]
  },
  {
   "cell_type": "code",
   "execution_count": 86,
   "id": "3cab5552",
   "metadata": {},
   "outputs": [],
   "source": [
    "RF_train_pred=RFmodel.predict(X_train)"
   ]
  },
  {
   "cell_type": "code",
   "execution_count": 87,
   "id": "54a50f9b",
   "metadata": {},
   "outputs": [],
   "source": [
    "RF_train_resid=y_train-RF_train_pred"
   ]
  },
  {
   "cell_type": "code",
   "execution_count": 88,
   "id": "24aa2dc4",
   "metadata": {},
   "outputs": [
    {
     "data": {
      "text/plain": [
       "64.50863488433652"
      ]
     },
     "execution_count": 88,
     "metadata": {},
     "output_type": "execute_result"
    }
   ],
   "source": [
    "np.sqrt(np.mean(RF_train_resid**2))"
   ]
  },
  {
   "cell_type": "code",
   "execution_count": 89,
   "id": "f852e7eb",
   "metadata": {},
   "outputs": [],
   "source": [
    "RF_test_pred=RFmodel.predict(X_test)"
   ]
  },
  {
   "cell_type": "code",
   "execution_count": 90,
   "id": "be8e7f69",
   "metadata": {},
   "outputs": [],
   "source": [
    "RF_test_resid=y_test-RF_test_pred"
   ]
  },
  {
   "cell_type": "code",
   "execution_count": 91,
   "id": "43f50c4e",
   "metadata": {},
   "outputs": [
    {
     "data": {
      "text/plain": [
       "184.44635024902084"
      ]
     },
     "execution_count": 91,
     "metadata": {},
     "output_type": "execute_result"
    }
   ],
   "source": [
    "np.sqrt(np.mean(RF_test_resid**2))"
   ]
  },
  {
   "cell_type": "code",
   "execution_count": 74,
   "id": "b1fe08a3",
   "metadata": {},
   "outputs": [],
   "source": [
    "from sklearn.ensemble import GradientBoostingRegressor"
   ]
  },
  {
   "cell_type": "code",
   "execution_count": 80,
   "id": "f33eb27a",
   "metadata": {},
   "outputs": [],
   "source": [
    "gbm=GradientBoostingRegressor(n_estimators=1000)"
   ]
  },
  {
   "cell_type": "code",
   "execution_count": 81,
   "id": "7c5239d1",
   "metadata": {},
   "outputs": [],
   "source": [
    "gbmmodel=gbm.fit(X_train,y_train)"
   ]
  },
  {
   "cell_type": "code",
   "execution_count": 82,
   "id": "47e4fad3",
   "metadata": {},
   "outputs": [
    {
     "data": {
      "text/plain": [
       "0.9643518688787591"
      ]
     },
     "execution_count": 82,
     "metadata": {},
     "output_type": "execute_result"
    }
   ],
   "source": [
    "gbmmodel.score(X_train,y_train)"
   ]
  },
  {
   "cell_type": "code",
   "execution_count": 78,
   "id": "09245368",
   "metadata": {},
   "outputs": [
    {
     "data": {
      "text/plain": [
       "array([0.92451331, 0.93165157, 0.92670631, 0.92755168, 0.92459452])"
      ]
     },
     "execution_count": 78,
     "metadata": {},
     "output_type": "execute_result"
    }
   ],
   "source": [
    "cross_val_score(gbm,X_train,y_train)"
   ]
  },
  {
   "cell_type": "code",
   "execution_count": 79,
   "id": "b92dc137",
   "metadata": {},
   "outputs": [
    {
     "data": {
      "text/plain": [
       "0.92551548"
      ]
     },
     "execution_count": 79,
     "metadata": {},
     "output_type": "execute_result"
    }
   ],
   "source": [
    "np.mean([0.923143  , 0.93299455, 0.92450624, 0.92802324, 0.91891037])"
   ]
  },
  {
   "cell_type": "code",
   "execution_count": 98,
   "id": "3ffa5f59",
   "metadata": {},
   "outputs": [],
   "source": [
    "gbm_train_pred=gbmmodel.predict(X_train)"
   ]
  },
  {
   "cell_type": "code",
   "execution_count": 99,
   "id": "4afa57d7",
   "metadata": {},
   "outputs": [],
   "source": [
    "gbm_train_resid=y_train-gbm_train_pred"
   ]
  },
  {
   "cell_type": "code",
   "execution_count": 100,
   "id": "3b41395c",
   "metadata": {},
   "outputs": [
    {
     "data": {
      "text/plain": [
       "76.0464451072412"
      ]
     },
     "execution_count": 100,
     "metadata": {},
     "output_type": "execute_result"
    }
   ],
   "source": [
    "np.sqrt(np.mean(gbm_train_resid**2))"
   ]
  },
  {
   "cell_type": "code",
   "execution_count": 101,
   "id": "cf1c4523",
   "metadata": {},
   "outputs": [],
   "source": [
    "gbm_test_pred=gbmmodel.predict(X_test)"
   ]
  },
  {
   "cell_type": "code",
   "execution_count": 102,
   "id": "39099da9",
   "metadata": {},
   "outputs": [],
   "source": [
    "gbm_test_resid=y_test-gbm_test_pred"
   ]
  },
  {
   "cell_type": "code",
   "execution_count": 103,
   "id": "2b1379e1",
   "metadata": {},
   "outputs": [
    {
     "data": {
      "text/plain": [
       "178.33085154032358"
      ]
     },
     "execution_count": 103,
     "metadata": {},
     "output_type": "execute_result"
    }
   ],
   "source": [
    "np.sqrt(np.mean(gbm_test_resid**2))"
   ]
  },
  {
   "cell_type": "code",
   "execution_count": 104,
   "id": "9ba63730",
   "metadata": {},
   "outputs": [],
   "source": [
    "from sklearn.svm import SVR"
   ]
  },
  {
   "cell_type": "code",
   "execution_count": 105,
   "id": "58491832",
   "metadata": {},
   "outputs": [],
   "source": [
    "svm=SVR(C=1e5,kernel='linear')"
   ]
  },
  {
   "cell_type": "code",
   "execution_count": 106,
   "id": "a28058f0",
   "metadata": {},
   "outputs": [],
   "source": [
    "svmmodel=svm.fit(X_train,y_train)"
   ]
  },
  {
   "cell_type": "code",
   "execution_count": 107,
   "id": "c76644bd",
   "metadata": {},
   "outputs": [
    {
     "data": {
      "text/plain": [
       "0.5690375843515829"
      ]
     },
     "execution_count": 107,
     "metadata": {},
     "output_type": "execute_result"
    }
   ],
   "source": [
    "svmmodel.score(X_train,y_train)"
   ]
  },
  {
   "cell_type": "code",
   "execution_count": 108,
   "id": "55a5b86c",
   "metadata": {},
   "outputs": [],
   "source": [
    "svm_train_pred=svmmodel.predict(X_train)"
   ]
  },
  {
   "cell_type": "code",
   "execution_count": 109,
   "id": "c5c1459e",
   "metadata": {},
   "outputs": [],
   "source": [
    "svm_train_resid=y_train-svm_train_pred"
   ]
  },
  {
   "cell_type": "code",
   "execution_count": 110,
   "id": "f2d26e8a",
   "metadata": {},
   "outputs": [
    {
     "data": {
      "text/plain": [
       "424.54659607633556"
      ]
     },
     "execution_count": 110,
     "metadata": {},
     "output_type": "execute_result"
    }
   ],
   "source": [
    "np.sqrt(np.mean(svm_train_resid**2))"
   ]
  },
  {
   "cell_type": "code",
   "execution_count": 111,
   "id": "b1ef1145",
   "metadata": {},
   "outputs": [],
   "source": [
    "svm_test_pred=svmmodel.predict(X_test)"
   ]
  },
  {
   "cell_type": "code",
   "execution_count": 112,
   "id": "ce6eb5c2",
   "metadata": {},
   "outputs": [],
   "source": [
    "svm_test_resid=y_test-svm_test_pred"
   ]
  },
  {
   "cell_type": "code",
   "execution_count": 113,
   "id": "30b80889",
   "metadata": {},
   "outputs": [
    {
     "data": {
      "text/plain": [
       "430.4008505036743"
      ]
     },
     "execution_count": 113,
     "metadata": {},
     "output_type": "execute_result"
    }
   ],
   "source": [
    "np.sqrt(np.mean(svm_test_resid**2))"
   ]
  },
  {
   "cell_type": "code",
   "execution_count": 114,
   "id": "55e21ec7",
   "metadata": {},
   "outputs": [],
   "source": [
    "from sklearn.neighbors import KNeighborsRegressor\n",
    "from sklearn.model_selection import GridSearchCV"
   ]
  },
  {
   "cell_type": "code",
   "execution_count": 115,
   "id": "7a6a4c20",
   "metadata": {},
   "outputs": [],
   "source": [
    "knn=KNeighborsRegressor()"
   ]
  },
  {
   "cell_type": "code",
   "execution_count": 116,
   "id": "ddc3ba0d",
   "metadata": {},
   "outputs": [],
   "source": [
    "k_range=list(range(1,25))\n",
    "param_grid=dict(n_neighbors=k_range)\n",
    "grid=GridSearchCV(knn,param_grid,cv=3)"
   ]
  },
  {
   "cell_type": "code",
   "execution_count": 117,
   "id": "0f12935f",
   "metadata": {},
   "outputs": [],
   "source": [
    "grid_search=grid.fit(X_train,y_train)"
   ]
  },
  {
   "cell_type": "code",
   "execution_count": 118,
   "id": "80adc0d9",
   "metadata": {},
   "outputs": [
    {
     "data": {
      "text/plain": [
       "{'n_neighbors': 3}"
      ]
     },
     "execution_count": 118,
     "metadata": {},
     "output_type": "execute_result"
    }
   ],
   "source": [
    "grid_search.best_params_"
   ]
  },
  {
   "cell_type": "code",
   "execution_count": 119,
   "id": "7a1fae7e",
   "metadata": {},
   "outputs": [
    {
     "data": {
      "text/plain": [
       "0.8356263363434917"
      ]
     },
     "execution_count": 119,
     "metadata": {},
     "output_type": "execute_result"
    }
   ],
   "source": [
    "grid_search.best_score_"
   ]
  },
  {
   "cell_type": "code",
   "execution_count": 120,
   "id": "c132ea98",
   "metadata": {},
   "outputs": [
    {
     "data": {
      "text/html": [
       "<style>#sk-container-id-1 {color: black;background-color: white;}#sk-container-id-1 pre{padding: 0;}#sk-container-id-1 div.sk-toggleable {background-color: white;}#sk-container-id-1 label.sk-toggleable__label {cursor: pointer;display: block;width: 100%;margin-bottom: 0;padding: 0.3em;box-sizing: border-box;text-align: center;}#sk-container-id-1 label.sk-toggleable__label-arrow:before {content: \"▸\";float: left;margin-right: 0.25em;color: #696969;}#sk-container-id-1 label.sk-toggleable__label-arrow:hover:before {color: black;}#sk-container-id-1 div.sk-estimator:hover label.sk-toggleable__label-arrow:before {color: black;}#sk-container-id-1 div.sk-toggleable__content {max-height: 0;max-width: 0;overflow: hidden;text-align: left;background-color: #f0f8ff;}#sk-container-id-1 div.sk-toggleable__content pre {margin: 0.2em;color: black;border-radius: 0.25em;background-color: #f0f8ff;}#sk-container-id-1 input.sk-toggleable__control:checked~div.sk-toggleable__content {max-height: 200px;max-width: 100%;overflow: auto;}#sk-container-id-1 input.sk-toggleable__control:checked~label.sk-toggleable__label-arrow:before {content: \"▾\";}#sk-container-id-1 div.sk-estimator input.sk-toggleable__control:checked~label.sk-toggleable__label {background-color: #d4ebff;}#sk-container-id-1 div.sk-label input.sk-toggleable__control:checked~label.sk-toggleable__label {background-color: #d4ebff;}#sk-container-id-1 input.sk-hidden--visually {border: 0;clip: rect(1px 1px 1px 1px);clip: rect(1px, 1px, 1px, 1px);height: 1px;margin: -1px;overflow: hidden;padding: 0;position: absolute;width: 1px;}#sk-container-id-1 div.sk-estimator {font-family: monospace;background-color: #f0f8ff;border: 1px dotted black;border-radius: 0.25em;box-sizing: border-box;margin-bottom: 0.5em;}#sk-container-id-1 div.sk-estimator:hover {background-color: #d4ebff;}#sk-container-id-1 div.sk-parallel-item::after {content: \"\";width: 100%;border-bottom: 1px solid gray;flex-grow: 1;}#sk-container-id-1 div.sk-label:hover label.sk-toggleable__label {background-color: #d4ebff;}#sk-container-id-1 div.sk-serial::before {content: \"\";position: absolute;border-left: 1px solid gray;box-sizing: border-box;top: 0;bottom: 0;left: 50%;z-index: 0;}#sk-container-id-1 div.sk-serial {display: flex;flex-direction: column;align-items: center;background-color: white;padding-right: 0.2em;padding-left: 0.2em;position: relative;}#sk-container-id-1 div.sk-item {position: relative;z-index: 1;}#sk-container-id-1 div.sk-parallel {display: flex;align-items: stretch;justify-content: center;background-color: white;position: relative;}#sk-container-id-1 div.sk-item::before, #sk-container-id-1 div.sk-parallel-item::before {content: \"\";position: absolute;border-left: 1px solid gray;box-sizing: border-box;top: 0;bottom: 0;left: 50%;z-index: -1;}#sk-container-id-1 div.sk-parallel-item {display: flex;flex-direction: column;z-index: 1;position: relative;background-color: white;}#sk-container-id-1 div.sk-parallel-item:first-child::after {align-self: flex-end;width: 50%;}#sk-container-id-1 div.sk-parallel-item:last-child::after {align-self: flex-start;width: 50%;}#sk-container-id-1 div.sk-parallel-item:only-child::after {width: 0;}#sk-container-id-1 div.sk-dashed-wrapped {border: 1px dashed gray;margin: 0 0.4em 0.5em 0.4em;box-sizing: border-box;padding-bottom: 0.4em;background-color: white;}#sk-container-id-1 div.sk-label label {font-family: monospace;font-weight: bold;display: inline-block;line-height: 1.2em;}#sk-container-id-1 div.sk-label-container {text-align: center;}#sk-container-id-1 div.sk-container {/* jupyter's `normalize.less` sets `[hidden] { display: none; }` but bootstrap.min.css set `[hidden] { display: none !important; }` so we also need the `!important` here to be able to override the default hidden behavior on the sphinx rendered scikit-learn.org. See: https://github.com/scikit-learn/scikit-learn/issues/21755 */display: inline-block !important;position: relative;}#sk-container-id-1 div.sk-text-repr-fallback {display: none;}</style><div id=\"sk-container-id-1\" class=\"sk-top-container\"><div class=\"sk-text-repr-fallback\"><pre>KNeighborsRegressor(n_neighbors=3)</pre><b>In a Jupyter environment, please rerun this cell to show the HTML representation or trust the notebook. <br />On GitHub, the HTML representation is unable to render, please try loading this page with nbviewer.org.</b></div><div class=\"sk-container\" hidden><div class=\"sk-item\"><div class=\"sk-estimator sk-toggleable\"><input class=\"sk-toggleable__control sk-hidden--visually\" id=\"sk-estimator-id-1\" type=\"checkbox\" checked><label for=\"sk-estimator-id-1\" class=\"sk-toggleable__label sk-toggleable__label-arrow\">KNeighborsRegressor</label><div class=\"sk-toggleable__content\"><pre>KNeighborsRegressor(n_neighbors=3)</pre></div></div></div></div></div>"
      ],
      "text/plain": [
       "KNeighborsRegressor(n_neighbors=3)"
      ]
     },
     "execution_count": 120,
     "metadata": {},
     "output_type": "execute_result"
    }
   ],
   "source": [
    "grid_search.best_estimator_"
   ]
  },
  {
   "cell_type": "code",
   "execution_count": 121,
   "id": "7543887b",
   "metadata": {},
   "outputs": [
    {
     "data": {
      "text/plain": [
       "0.9374800206436331"
      ]
     },
     "execution_count": 121,
     "metadata": {},
     "output_type": "execute_result"
    }
   ],
   "source": [
    "grid_search.score(X_train,y_train)"
   ]
  }
 ],
 "metadata": {
  "kernelspec": {
   "display_name": "Python 3 (ipykernel)",
   "language": "python",
   "name": "python3"
  },
  "language_info": {
   "codemirror_mode": {
    "name": "ipython",
    "version": 3
   },
   "file_extension": ".py",
   "mimetype": "text/x-python",
   "name": "python",
   "nbconvert_exporter": "python",
   "pygments_lexer": "ipython3",
   "version": "3.10.9"
  }
 },
 "nbformat": 4,
 "nbformat_minor": 5
}
